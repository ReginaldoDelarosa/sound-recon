{
 "cells": [
  {
   "cell_type": "code",
   "execution_count": 125,
   "metadata": {},
   "outputs": [],
   "source": [
    "import tensorflow as tf\n",
    "import sounddevice as sd\n",
    "import soundfile as sf\n",
    "import numpy as np\n"
   ]
  },
  {
   "cell_type": "code",
   "execution_count": 126,
   "metadata": {},
   "outputs": [
    {
     "name": "stdout",
     "output_type": "stream",
     "text": [
      "[{'name': 'audio_preproc_input', 'index': 0, 'shape': array([    1, 44032]), 'shape_signature': array([   -1, 44032]), 'dtype': <class 'numpy.float32'>, 'quantization': (0.0, 0), 'quantization_parameters': {'scales': array([], dtype=float32), 'zero_points': array([], dtype=int32), 'quantized_dimension': 0}, 'sparsity_parameters': {}}]\n",
      "[{'name': 'Identity', 'index': 75, 'shape': array([1, 7]), 'shape_signature': array([-1,  7]), 'dtype': <class 'numpy.float32'>, 'quantization': (0.0, 0), 'quantization_parameters': {'scales': array([], dtype=float32), 'zero_points': array([], dtype=int32), 'quantized_dimension': 0}, 'sparsity_parameters': {}}]\n"
     ]
    }
   ],
   "source": [
    "\n",
    "interpreter = tf.lite.Interpreter(model_path=\"soundclassifier_with_metadata.tflite\")\n",
    "interpreter.allocate_tensors()\n",
    "\n",
    "\n",
    "input_details = interpreter.get_input_details()\n",
    "output_details = interpreter.get_output_details()\n",
    "print(input_details)\n",
    "print(output_details)\n",
    "sample_rate =44100\n",
    "duration=30\n",
    "frames = sample_rate * duration\n",
    "audio_buffer = np.array([])"
   ]
  },
  {
   "cell_type": "code",
   "execution_count": 127,
   "metadata": {},
   "outputs": [],
   "source": [
    "def preprocess_audio(audio_data):\n",
    "    audio_data = np.array(audio_data)\n",
    "\n",
    "    audio_data = audio_data / np.max(np.abs(audio_data))\n",
    "\n",
    "    audio_data = audio_data.reshape(input_details[0]['shape'])\n",
    "\n",
    "    return audio_data\n",
    "\n",
    "def interpret_output(output_data):\n",
    "    class_labels = ['Aplaudiendo', 'Cantando 1', 'Cantando 2', 'Hablando', 'Sonido ambiente', 'silvando', 'tosiendo']\n",
    "\n",
    "    highest_output_index = np.argmax(output_data)\n",
    "\n",
    "    highest_output_label = class_labels[highest_output_index]\n",
    "\n",
    "    print(f\"El sonido es: {highest_output_label}\")\n",
    "    \n",
    "def audio_callback(indata, frames, time, status):\n",
    "    global audio_buffer\n",
    "\n",
    "    audio_buffer = np.concatenate((audio_buffer, indata.flatten()))\n",
    "    \n",
    "\n",
    "    if audio_buffer.size >= 44032:\n",
    "        audio_data = audio_buffer[:44032]\n",
    "\n",
    "        audio_data = audio_data / np.max(np.abs(audio_data))\n",
    "\n",
    "        audio_data = audio_data.astype(np.float32)\n",
    "\n",
    "        audio_data = audio_data.reshape(input_details[0]['shape'])\n",
    "\n",
    "        interpreter.set_tensor(input_details[0]['index'], audio_data)\n",
    "\n",
    "        interpreter.invoke()\n",
    "\n",
    "        output_data = interpreter.get_tensor(output_details[0]['index'])\n",
    "\n",
    "        interpret_output(output_data)\n",
    "        \n",
    "        audio_buffer = audio_buffer[44032:]\n",
    "\n",
    "\n"
   ]
  },
  {
   "cell_type": "code",
   "execution_count": 128,
   "metadata": {},
   "outputs": [
    {
     "name": "stdout",
     "output_type": "stream",
     "text": [
      "El sonido es: Sonido ambiente\n",
      "El sonido es: Sonido ambiente\n",
      "El sonido es: silvando\n",
      "El sonido es: Cantando 2\n",
      "El sonido es: Cantando 2\n",
      "El sonido es: Hablando\n",
      "El sonido es: Cantando 2\n",
      "El sonido es: Cantando 2\n",
      "El sonido es: Sonido ambiente\n",
      "El sonido es: Cantando 2\n",
      "El sonido es: Cantando 1\n",
      "El sonido es: Cantando 2\n",
      "El sonido es: Cantando 1\n",
      "El sonido es: Cantando 2\n",
      "El sonido es: Cantando 2\n",
      "El sonido es: Cantando 2\n",
      "El sonido es: Cantando 2\n",
      "El sonido es: Cantando 2\n",
      "El sonido es: Cantando 2\n",
      "El sonido es: Sonido ambiente\n",
      "El sonido es: Cantando 2\n",
      "El sonido es: Cantando 2\n",
      "El sonido es: Cantando 2\n",
      "El sonido es: Cantando 2\n",
      "El sonido es: Cantando 2\n",
      "El sonido es: Aplaudiendo\n",
      "El sonido es: Cantando 1\n",
      "El sonido es: Cantando 2\n",
      "El sonido es: tosiendo\n",
      "El sonido es: Cantando 2\n"
     ]
    }
   ],
   "source": [
    "with sd.InputStream(samplerate=sample_rate, channels=1, callback=audio_callback):\n",
    "    sd.sleep(duration * 1000)"
   ]
  },
  {
   "cell_type": "markdown",
   "metadata": {},
   "source": []
  }
 ],
 "metadata": {
  "kernelspec": {
   "display_name": "Python 3",
   "language": "python",
   "name": "python3"
  },
  "language_info": {
   "codemirror_mode": {
    "name": "ipython",
    "version": 3
   },
   "file_extension": ".py",
   "mimetype": "text/x-python",
   "name": "python",
   "nbconvert_exporter": "python",
   "pygments_lexer": "ipython3",
   "version": "3.11.6"
  }
 },
 "nbformat": 4,
 "nbformat_minor": 2
}
